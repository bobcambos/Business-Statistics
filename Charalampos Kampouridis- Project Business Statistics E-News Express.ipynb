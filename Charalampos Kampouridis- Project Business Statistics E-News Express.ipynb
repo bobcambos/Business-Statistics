{
 "cells": [
  {
   "cell_type": "markdown",
   "id": "6yDxo9u0d9Na",
   "metadata": {
    "id": "6yDxo9u0d9Na"
   },
   "source": [
    "# <p style=\"color:red\">Project Business Statistics: E-news Express</p>\n",
    "\n",
    "**Marks: 60**"
   ]
  },
  {
   "cell_type": "markdown",
   "id": "9Vt1PLLqmXNn",
   "metadata": {
    "id": "9Vt1PLLqmXNn"
   },
   "source": [
    "## Description Background: \n",
    "\n",
    "An online news portal aims to expand its business by acquiring new subscribers. Every visitor to the website takes certain actions based on their interest. The company plans to analyze these interests and wants to determine whether a new feature will be effective or not. Companies often analyze users' responses to two variants of a product to decide which of the two variants is more effective. This experimental technique is known as a/b testing that is used to determine whether a new feature attracts users based on a chosen metric.\n",
    "\n",
    "Suppose you are hired as a Data Scientist in E-news Express. The design team of the company has created a new landing page. You have been assigned the task to decide whether the new landing page is more effective to gather new subscribers. Suppose you randomly selected 100 users and divided them equally into two groups. The old landing page is served to the first group (control group) and the new landing page is served to the second group (treatment group). Various data about the customers in both groups are collected in 'abtest.csv'. Perform the statistical analysis to answer the following questions using the collected data."
   ]
  },
  {
   "cell_type": "markdown",
   "id": "0b661656",
   "metadata": {},
   "source": [
    "## Objective:\n",
    "\n",
    "Statistical analysis of business data. Explore the dataset and extract insights from the data. The idea is for you to get comfortable with doing statistical analysis in Python.\n",
    "\n",
    "You are expected to perform the statistical analysis to answer the following questions:\n",
    "\n",
    "Explore the dataset and extract insights using Exploratory Data Analysis.\n",
    "Do the users spend more time on the new landing page than the old landing page?\n",
    "Is the conversion rate (the proportion of users who visit the landing page and get converted) for the new page greater than the conversion rate for the old page?\n",
    "Does the converted status depend on the preferred language? [Hint: Create a contingency table using the pandas.crosstab() function]\n",
    "Is the mean time spent on the new page same for the different language users?\n",
    "*Consider a significance level of 0.05 for all tests."
   ]
  },
  {
   "cell_type": "markdown",
   "id": "89c2e848",
   "metadata": {},
   "source": [
    "## <a name='contents'>**Contents of Analysis:**<a>\n",
    "\n",
    "- <a href = #link1>1. Explore the dataset and extract insights using Exploratory Data Analysis. (10 Marks)</a>\n",
    "- <a href = #link2>2. Do the users spend more time on the new landing page than the existing landing page? (10 Marks)</a>\n",
    "- <a href = #link3>3. Is the conversion rate (the proportion of users who visit the landing page and get converted) for the new page greater than the conversion rate for the old page? (10 Marks)</a>\n",
    "- <a href = #link4>4. Is the conversion and preferred language are independent or related? (10 Marks)</a>\n",
    "- <a href = #link5>5. Is the time spent on the new page same for the different language users? (10 Marks)</a>"
   ]
  },
  {
   "cell_type": "markdown",
   "id": "a6a3d218",
   "metadata": {
    "id": "a6a3d218"
   },
   "source": [
    "### Import all the necessary libraries"
   ]
  },
  {
   "cell_type": "code",
   "execution_count": 1,
   "id": "658c5dec",
   "metadata": {
    "id": "658c5dec"
   },
   "outputs": [],
   "source": [
    "import numpy as np\n",
    "import pandas as pd\n",
    "import math\n",
    "from matplotlib import pyplot as plt\n",
    "import seaborn as sns"
   ]
  },
  {
   "cell_type": "markdown",
   "id": "9d75cfa2",
   "metadata": {
    "id": "9d75cfa2"
   },
   "source": [
    "## <a name='link1'>1. Explore the dataset and extract insights using Exploratory Data Analysis. (10 Marks)</a>\n",
    "\n",
    "or return to <a href = #contents>Contents of Analysis</a>\n",
    "    "
   ]
  },
  {
   "cell_type": "markdown",
   "id": "102605aa",
   "metadata": {},
   "source": [
    "### Exploratory Data Analysis - Step by step approach\n",
    "Typical Data exploration activity consists of the following steps:\n",
    "    \n",
    "1. Importing Data\n",
    "2. Variable Identification\n",
    "3. Variable Transformation/Feature Creation\n",
    "4. Missing value detection\n",
    "5. Univariate Analysis\n",
    "6. Bivariate Analysis"
   ]
  },
  {
   "cell_type": "markdown",
   "id": "6970dd99",
   "metadata": {
    "id": "6970dd99"
   },
   "source": [
    "### Reading the Data into a DataFrame"
   ]
  },
  {
   "cell_type": "code",
   "execution_count": 2,
   "id": "d3b95640",
   "metadata": {
    "id": "d3b95640"
   },
   "outputs": [],
   "source": [
    "# Importing our data from the \"abtest.csv\" file which located in the same folder as the *.ipynb file. \n",
    "# We are using the pd.read_csv() function from pandas and in parenthesis the csv file to upload.\n",
    "df = pd.read_csv('abtest.csv')"
   ]
  },
  {
   "cell_type": "markdown",
   "id": "a4e471fd",
   "metadata": {
    "id": "a4e471fd"
   },
   "source": [
    "### Data Overview\n",
    "- View a few rows of the data frame.\n",
    "- Check the shape and data types of the data frame.\n",
    "- Fix the data-types (if needed).\n",
    "- Missing Value Check.\n",
    "- Summary statistics from the data frame."
   ]
  },
  {
   "cell_type": "code",
   "execution_count": 3,
   "id": "e1ad11d4",
   "metadata": {
    "id": "e1ad11d4"
   },
   "outputs": [
    {
     "data": {
      "text/html": [
       "<div>\n",
       "<style scoped>\n",
       "    .dataframe tbody tr th:only-of-type {\n",
       "        vertical-align: middle;\n",
       "    }\n",
       "\n",
       "    .dataframe tbody tr th {\n",
       "        vertical-align: top;\n",
       "    }\n",
       "\n",
       "    .dataframe thead th {\n",
       "        text-align: right;\n",
       "    }\n",
       "</style>\n",
       "<table border=\"1\" class=\"dataframe\">\n",
       "  <thead>\n",
       "    <tr style=\"text-align: right;\">\n",
       "      <th></th>\n",
       "      <th>user_id</th>\n",
       "      <th>group</th>\n",
       "      <th>landing_page</th>\n",
       "      <th>time_spent_on_the_page</th>\n",
       "      <th>converted</th>\n",
       "      <th>language_preferred</th>\n",
       "    </tr>\n",
       "  </thead>\n",
       "  <tbody>\n",
       "    <tr>\n",
       "      <th>0</th>\n",
       "      <td>546592</td>\n",
       "      <td>control</td>\n",
       "      <td>old</td>\n",
       "      <td>3.48</td>\n",
       "      <td>no</td>\n",
       "      <td>Spanish</td>\n",
       "    </tr>\n",
       "    <tr>\n",
       "      <th>1</th>\n",
       "      <td>546468</td>\n",
       "      <td>treatment</td>\n",
       "      <td>new</td>\n",
       "      <td>7.13</td>\n",
       "      <td>yes</td>\n",
       "      <td>English</td>\n",
       "    </tr>\n",
       "    <tr>\n",
       "      <th>2</th>\n",
       "      <td>546462</td>\n",
       "      <td>treatment</td>\n",
       "      <td>new</td>\n",
       "      <td>4.40</td>\n",
       "      <td>no</td>\n",
       "      <td>Spanish</td>\n",
       "    </tr>\n",
       "    <tr>\n",
       "      <th>3</th>\n",
       "      <td>546567</td>\n",
       "      <td>control</td>\n",
       "      <td>old</td>\n",
       "      <td>3.02</td>\n",
       "      <td>no</td>\n",
       "      <td>French</td>\n",
       "    </tr>\n",
       "    <tr>\n",
       "      <th>4</th>\n",
       "      <td>546459</td>\n",
       "      <td>treatment</td>\n",
       "      <td>new</td>\n",
       "      <td>4.75</td>\n",
       "      <td>yes</td>\n",
       "      <td>Spanish</td>\n",
       "    </tr>\n",
       "  </tbody>\n",
       "</table>\n",
       "</div>"
      ],
      "text/plain": [
       "   user_id      group landing_page  time_spent_on_the_page converted  \\\n",
       "0   546592    control          old                    3.48        no   \n",
       "1   546468  treatment          new                    7.13       yes   \n",
       "2   546462  treatment          new                    4.40        no   \n",
       "3   546567    control          old                    3.02        no   \n",
       "4   546459  treatment          new                    4.75       yes   \n",
       "\n",
       "  language_preferred  \n",
       "0            Spanish  \n",
       "1            English  \n",
       "2            Spanish  \n",
       "3             French  \n",
       "4            Spanish  "
      ]
     },
     "execution_count": 3,
     "metadata": {},
     "output_type": "execute_result"
    }
   ],
   "source": [
    "# Sampling the first 5 rows from our df Dataframe\n",
    "df.head()"
   ]
  },
  {
   "cell_type": "markdown",
   "id": "0f674d2b",
   "metadata": {},
   "source": [
    "### Data Dictionary:\n",
    "\n",
    "- user_id - This represents the user ID of the person visiting the website.\n",
    "\n",
    "- group - This represents whether the user belongs to the first group (control) or the second group (treatment).\n",
    "\n",
    "- landing_page - This represents whether the landing page is new or old.\n",
    "\n",
    "- time_spent_on_the_page - This represents the time (in minutes) spent by the user on the landing page.\n",
    "\n",
    "- converted - This represents whether the user gets converted to a subscriber of the news portal or not.\n",
    "\n",
    "- language_preferred - This represents the language chosen by the user to view the landing page."
   ]
  },
  {
   "cell_type": "code",
   "execution_count": 4,
   "id": "f49dc981",
   "metadata": {},
   "outputs": [
    {
     "name": "stdout",
     "output_type": "stream",
     "text": [
      "The upper table consists of 100 rows and 6 columns.\n"
     ]
    }
   ],
   "source": [
    "# Calculating the number of raws and columns in our Dataset\n",
    "print('The upper table consists of ' + str(df.shape[0]) + ' rows and ' + str(df.shape[1]) + ' columns.')"
   ]
  },
  {
   "cell_type": "code",
   "execution_count": 5,
   "id": "8f8e6d2a",
   "metadata": {},
   "outputs": [
    {
     "name": "stdout",
     "output_type": "stream",
     "text": [
      "<class 'pandas.core.frame.DataFrame'>\n",
      "RangeIndex: 100 entries, 0 to 99\n",
      "Data columns (total 6 columns):\n",
      " #   Column                  Non-Null Count  Dtype  \n",
      "---  ------                  --------------  -----  \n",
      " 0   user_id                 100 non-null    int64  \n",
      " 1   group                   100 non-null    object \n",
      " 2   landing_page            100 non-null    object \n",
      " 3   time_spent_on_the_page  100 non-null    float64\n",
      " 4   converted               100 non-null    object \n",
      " 5   language_preferred      100 non-null    object \n",
      "dtypes: float64(1), int64(1), object(4)\n",
      "memory usage: 4.8+ KB\n"
     ]
    }
   ],
   "source": [
    "# Use info() to print a concise summary of the DataFrame\n",
    "df.info()"
   ]
  },
  {
   "cell_type": "code",
   "execution_count": 6,
   "id": "68a4cea1",
   "metadata": {},
   "outputs": [],
   "source": [
    "#Converting \"objects\" to \"category\" reduces the data space required to store the dataframe\n",
    "df['group'] = df['group'].astype('category')\n",
    "df['landing_page'] = df['landing_page'].astype('category')\n",
    "df['converted'] = df['converted'].astype('category')\n",
    "df['language_preferred'] = df['language_preferred'].astype('category')"
   ]
  },
  {
   "cell_type": "code",
   "execution_count": 7,
   "id": "8cbe304b",
   "metadata": {},
   "outputs": [
    {
     "name": "stdout",
     "output_type": "stream",
     "text": [
      "<class 'pandas.core.frame.DataFrame'>\n",
      "RangeIndex: 100 entries, 0 to 99\n",
      "Data columns (total 6 columns):\n",
      " #   Column                  Non-Null Count  Dtype   \n",
      "---  ------                  --------------  -----   \n",
      " 0   user_id                 100 non-null    int64   \n",
      " 1   group                   100 non-null    category\n",
      " 2   landing_page            100 non-null    category\n",
      " 3   time_spent_on_the_page  100 non-null    float64 \n",
      " 4   converted               100 non-null    category\n",
      " 5   language_preferred      100 non-null    category\n",
      "dtypes: category(4), float64(1), int64(1)\n",
      "memory usage: 2.6 KB\n"
     ]
    }
   ],
   "source": [
    "# for confirmation we run again the .info()\n",
    "df.info()"
   ]
  },
  {
   "cell_type": "code",
   "execution_count": 8,
   "id": "a4c360a5",
   "metadata": {},
   "outputs": [
    {
     "data": {
      "text/plain": [
       "user_id                   0\n",
       "group                     0\n",
       "landing_page              0\n",
       "time_spent_on_the_page    0\n",
       "converted                 0\n",
       "language_preferred        0\n",
       "dtype: int64"
      ]
     },
     "execution_count": 8,
     "metadata": {},
     "output_type": "execute_result"
    }
   ],
   "source": [
    "# Finding missing values in the table\n",
    "df.isnull().sum()"
   ]
  },
  {
   "cell_type": "code",
   "execution_count": 9,
   "id": "d10f2082",
   "metadata": {},
   "outputs": [
    {
     "data": {
      "text/plain": [
       "count    100.000000\n",
       "mean       5.377800\n",
       "std        2.378166\n",
       "min        0.190000\n",
       "25%        3.880000\n",
       "50%        5.415000\n",
       "75%        7.022500\n",
       "max       10.710000\n",
       "Name: time_spent_on_the_page, dtype: float64"
      ]
     },
     "execution_count": 9,
     "metadata": {},
     "output_type": "execute_result"
    }
   ],
   "source": [
    "#*.describe() show us all the min-max-mean-median-quartial values \n",
    "## as well as the number of entries from the numerical columns.\n",
    "# Although user_id is an integer it doesn't contain relevant informations. We exclude it from the analysis.\n",
    "df.time_spent_on_the_page.describe()"
   ]
  },
  {
   "cell_type": "code",
   "execution_count": 10,
   "id": "e6f99481",
   "metadata": {
    "id": "e6f99481"
   },
   "outputs": [
    {
     "data": {
      "text/plain": [
       "control      50\n",
       "treatment    50\n",
       "Name: group, dtype: int64"
      ]
     },
     "execution_count": 10,
     "metadata": {},
     "output_type": "execute_result"
    }
   ],
   "source": [
    "# Some more categorization with value_counts that will be usefull for aour further analysis.\n",
    "# Here we have the 2 options of column 'group'. \n",
    "df.group.value_counts()"
   ]
  },
  {
   "cell_type": "code",
   "execution_count": 11,
   "id": "4381e69f",
   "metadata": {
    "scrolled": true
   },
   "outputs": [
    {
     "data": {
      "text/plain": [
       "new    50\n",
       "old    50\n",
       "Name: landing_page, dtype: int64"
      ]
     },
     "execution_count": 11,
     "metadata": {},
     "output_type": "execute_result"
    }
   ],
   "source": [
    "# Here we have the 2 options of column 'landing_page'. \n",
    "df.landing_page.value_counts()"
   ]
  },
  {
   "cell_type": "code",
   "execution_count": 12,
   "id": "e45dd9fe",
   "metadata": {},
   "outputs": [
    {
     "data": {
      "text/plain": [
       "yes    54\n",
       "no     46\n",
       "Name: converted, dtype: int64"
      ]
     },
     "execution_count": 12,
     "metadata": {},
     "output_type": "execute_result"
    }
   ],
   "source": [
    "# The number of convertions . \n",
    "df.converted.value_counts()"
   ]
  },
  {
   "cell_type": "code",
   "execution_count": 13,
   "id": "1a4d3343",
   "metadata": {},
   "outputs": [
    {
     "data": {
      "text/plain": [
       "French     34\n",
       "Spanish    34\n",
       "English    32\n",
       "Name: language_preferred, dtype: int64"
      ]
     },
     "execution_count": 13,
     "metadata": {},
     "output_type": "execute_result"
    }
   ],
   "source": [
    "# The count of variates from preferred languages\n",
    "df.language_preferred.value_counts()"
   ]
  },
  {
   "cell_type": "markdown",
   "id": "1c929eef",
   "metadata": {},
   "source": [
    "### Observations\n",
    "\n",
    "- As we can see from this analysis we have a 100 users or entries and aparts from 6 features (columns). \n",
    "- No missing values at this Dataframe.\n",
    "- 4 categorical columns and 2 numeric (<i>in our case user_id not very relevant</i>).\n",
    "- Percentage of users that landed at new page are 50% the same as at the old one.\n",
    "- The number of convertion is little bit more higher as they are 54 in contrast with the 46 that they didn't.\n",
    "- We have 3 languages in almost at same numbers of preference.\n",
    "\n"
   ]
  },
  {
   "cell_type": "markdown",
   "id": "68f3b2c9",
   "metadata": {
    "id": "68f3b2c9"
   },
   "source": [
    "### Univariate Analysis"
   ]
  },
  {
   "cell_type": "code",
   "execution_count": 14,
   "id": "1932d0f3",
   "metadata": {
    "id": "1932d0f3"
   },
   "outputs": [],
   "source": [
    "# Function to plot a boxplot and a histogram along the same scale. \n",
    "# Run this chunk of code to define this function - this will be very useful in data visualisation.\n",
    "# *** Copied from the Mentorship Case Studies in the past. ***\n",
    "\n",
    "def histogram_boxplot(data, feature, figsize=(12, 7), kde=False, bins=None):\n",
    "    \"\"\"\n",
    "    Boxplot and histogram combined\n",
    "\n",
    "    data: dataframe\n",
    "    feature: dataframe column\n",
    "    figsize: size of figure (default (12,7))\n",
    "    kde: whether to show the density curve (default False)\n",
    "    bins: number of bins for histogram (default None)\n",
    "    \"\"\"\n",
    "    f2, (ax_box2, ax_hist2) = plt.subplots(\n",
    "        nrows=2,  # Number of rows of the subplot grid= 2\n",
    "        sharex=True,  # x-axis will be shared among all subplots\n",
    "        gridspec_kw={\"height_ratios\": (0.25, 0.75)},\n",
    "        figsize=figsize,\n",
    "    )  # creating the 2 subplots\n",
    "    sns.boxplot(\n",
    "        data=data, x=feature, ax=ax_box2, showmeans=True, color=\"violet\"\n",
    "    )  # boxplot will be created and a star will indicate the mean value of the column\n",
    "    sns.histplot(\n",
    "        data=data, x=feature, kde=kde, ax=ax_hist2, bins=bins, palette=\"winter\"\n",
    "    ) if bins else sns.histplot(\n",
    "        data=data, x=feature, kde=kde, ax=ax_hist2\n",
    "    )  # For histogram\n",
    "    ax_hist2.axvline(\n",
    "        data[feature].mean(), color=\"green\", linestyle=\"--\"\n",
    "    )  # Add mean to the histogram\n",
    "    ax_hist2.axvline(\n",
    "        data[feature].median(), color=\"black\", linestyle=\"-\"\n",
    "    )  # Add median to the histogram"
   ]
  },
  {
   "cell_type": "code",
   "execution_count": 15,
   "id": "2fce6350",
   "metadata": {
    "id": "2fce6350"
   },
   "outputs": [],
   "source": [
    "# function to create labeled barplots\n",
    "# *** Copied from the Mentorship Case Studies in the past. ***\n",
    "\n",
    "\n",
    "def labeled_barplot(data, feature, perc=False, n=None):\n",
    "    \"\"\"\n",
    "    Barplot with percentage at the top\n",
    "\n",
    "    data: dataframe\n",
    "    feature: dataframe column\n",
    "    perc: whether to display percentages instead of count (default is False)\n",
    "    n: displays the top n category levels (default is None, i.e., display all levels)\n",
    "    \"\"\"\n",
    "\n",
    "    total = len(data[feature])  # length of the column\n",
    "    count = data[feature].nunique()\n",
    "    if n is None:\n",
    "        plt.figure(figsize=(count + 1, 5))\n",
    "    else:\n",
    "        plt.figure(figsize=(n + 1, 5))\n",
    "\n",
    "    plt.xticks(rotation=45, fontsize=15, horizontalalignment='right')\n",
    "    ax = sns.countplot(\n",
    "        data=data,\n",
    "        x=feature,\n",
    "        palette=\"Paired\",\n",
    "        order=data[feature].value_counts().index[:n].sort_values(),\n",
    "    )\n",
    "\n",
    "    for p in ax.patches:\n",
    "        if perc == True:\n",
    "            label = \"{:.1f}%\".format(\n",
    "                100 * p.get_height() / total\n",
    "            )  # percentage of each class of the category\n",
    "        else:\n",
    "            label = p.get_height()  # count of each level of the category\n",
    "\n",
    "        x = p.get_x() + p.get_width() / 2  # width of the plot\n",
    "        y = p.get_height()  # height of the plot\n",
    "\n",
    "        ax.annotate(\n",
    "            label,\n",
    "            (x, y),\n",
    "            ha=\"center\",\n",
    "            va=\"center\",\n",
    "            size=10,\n",
    "            xytext=(0, 5),\n",
    "            textcoords=\"offset points\",\n",
    "        )  # annotate the percentage\n",
    "\n",
    "    plt.show()  # show the plot"
   ]
  },
  {
   "cell_type": "code",
   "execution_count": 16,
   "id": "f0b94991",
   "metadata": {},
   "outputs": [
    {
     "data": {
      "image/png": "[encoded data removed]",
      "text/plain": [
       "<Figure size 864x504 with 2 Axes>"
      ]
     },
     "metadata": {
      "needs_background": "light"
     },
     "output_type": "display_data"
    }
   ],
   "source": [
    "# A boxplot by calling the defined function histogram_boxplot().\n",
    "# Except the number of users that they spent this particular time range 8 Boxes y axis, we finding also here the median and the mean values of this column.\n",
    "histogram_boxplot(df,\"time_spent_on_the_page\")"
   ]
  },
  {
   "cell_type": "code",
   "execution_count": 17,
   "id": "58e9a1d0",
   "metadata": {
    "id": "58e9a1d0",
    "scrolled": true
   },
   "outputs": [
    {
     "data": {
      "image/png": "[encoded data removed]",
      "text/plain": [
       "<Figure size 216x360 with 1 Axes>"
      ]
     },
     "metadata": {
      "needs_background": "light"
     },
     "output_type": "display_data"
    }
   ],
   "source": [
    "# A visualization with barplot to see the percentage of two groups and their number of users as well\n",
    "labeled_barplot(df,'group',perc = True)"
   ]
  },
  {
   "cell_type": "code",
   "execution_count": 18,
   "id": "3397847d",
   "metadata": {
    "scrolled": true
   },
   "outputs": [
    {
     "data": {
      "image/png": "[encoded data removed]",
      "text/plain": [
       "<Figure size 216x360 with 1 Axes>"
      ]
     },
     "metadata": {
      "needs_background": "light"
     },
     "output_type": "display_data"
    }
   ],
   "source": [
    "# A visualization with barplot to see the percentage of the two variants on 'Landing page' and their number of users as well\n",
    "labeled_barplot(df,'landing_page',perc = True)"
   ]
  },
  {
   "cell_type": "code",
   "execution_count": 19,
   "id": "549751d4",
   "metadata": {
    "scrolled": true
   },
   "outputs": [
    {
     "data": {
      "image/png": "[encoded data removed]",
      "text/plain": [
       "<Figure size 216x360 with 1 Axes>"
      ]
     },
     "metadata": {
      "needs_background": "light"
     },
     "output_type": "display_data"
    }
   ],
   "source": [
    "# A visualization with barplot to see the percentage of two convertion options and their number of users as well\n",
    "labeled_barplot(df,'converted',perc = True)"
   ]
  },
  {
   "cell_type": "code",
   "execution_count": 20,
   "id": "ebeb62fc",
   "metadata": {
    "scrolled": true
   },
   "outputs": [
    {
     "data": {
      "image/png": "[encoded data removed]",
      "text/plain": [
       "<Figure size 288x360 with 1 Axes>"
      ]
     },
     "metadata": {
      "needs_background": "light"
     },
     "output_type": "display_data"
    }
   ],
   "source": [
    "# A visualization with Barplot to see the percentages of the three preferred languages and their number of users as well\n",
    "labeled_barplot(df,'language_preferred',perc = True)"
   ]
  },
  {
   "cell_type": "markdown",
   "id": "fad2de2f",
   "metadata": {
    "id": "fad2de2f"
   },
   "source": [
    "### Bivariate Analysis"
   ]
  },
  {
   "cell_type": "markdown",
   "id": "42a8f68d",
   "metadata": {},
   "source": [
    "#### Landing page Vs Time spent on the page"
   ]
  },
  {
   "cell_type": "code",
   "execution_count": 21,
   "id": "9fe6f0a3",
   "metadata": {},
   "outputs": [
    {
     "data": {
      "text/plain": [
       "<Figure size 648x648 with 0 Axes>"
      ]
     },
     "metadata": {},
     "output_type": "display_data"
    },
    {
     "data": {
      "image/png": "[encoded data removed]",
      "text/plain": [
       "<Figure size 360x360 with 1 Axes>"
      ]
     },
     "metadata": {
      "needs_background": "light"
     },
     "output_type": "display_data"
    }
   ],
   "source": [
    "# An analysis with catplot about the diaspora of the count of the time users spent on a particular page. \n",
    "plt.figure(figsize=(9, 9))\n",
    "sns.catplot(data = df, x = 'landing_page', y = 'time_spent_on_the_page', )\n",
    "plt.show()"
   ]
  },
  {
   "cell_type": "markdown",
   "id": "1ff03436",
   "metadata": {},
   "source": [
    "#### Conversion status Vs Time spent on the page"
   ]
  },
  {
   "cell_type": "code",
   "execution_count": 22,
   "id": "7b463962",
   "metadata": {},
   "outputs": [
    {
     "data": {
      "image/png": "[encoded data removed]",
      "text/plain": [
       "<Figure size 648x648 with 1 Axes>"
      ]
     },
     "metadata": {
      "needs_background": "light"
     },
     "output_type": "display_data"
    }
   ],
   "source": [
    "# A catplot between the count of the time users spent on the page, categorized according convertion options.\n",
    "plt.figure(figsize=(9, 9))\n",
    "sns.boxplot(data = df, y = 'time_spent_on_the_page', x = 'converted')\n",
    "plt.show()"
   ]
  },
  {
   "cell_type": "markdown",
   "id": "7f1e2928",
   "metadata": {},
   "source": [
    "#### Language prefered Vs Time spent on the page"
   ]
  },
  {
   "cell_type": "code",
   "execution_count": 23,
   "id": "2e056c23",
   "metadata": {},
   "outputs": [
    {
     "data": {
      "image/png": "[encoded data removed]",
      "text/plain": [
       "<Figure size 648x648 with 1 Axes>"
      ]
     },
     "metadata": {
      "needs_background": "light"
     },
     "output_type": "display_data"
    }
   ],
   "source": [
    "# A different one showing with its darkness the number of users at the time they spent on the page, categorized according the language preference.\n",
    "plt.figure(figsize=(9, 9))\n",
    "sns.histplot(data = df, y = 'time_spent_on_the_page', x = 'language_preferred')\n",
    "plt.show()"
   ]
  },
  {
   "cell_type": "markdown",
   "id": "27906576",
   "metadata": {
    "id": "27906576"
   },
   "source": [
    "## <a name='link2'>2. Do the users spend more time on the new landing page than the existing landing page? (10 Marks)</a>\n",
    "\n",
    "or return to <a href = #contents>Contents of Analysis</a>"
   ]
  },
  {
   "cell_type": "markdown",
   "id": "e5fdf0c8",
   "metadata": {
    "id": "e5fdf0c8"
   },
   "source": [
    "### Perform Visual Analysis"
   ]
  },
  {
   "cell_type": "code",
   "execution_count": 24,
   "id": "6eZJa41eg21n",
   "metadata": {
    "id": "6eZJa41eg21n"
   },
   "outputs": [
    {
     "data": {
      "image/png": "[encoded data removed]",
      "text/plain": [
       "<Figure size 576x432 with 1 Axes>"
      ]
     },
     "metadata": {
      "needs_background": "light"
     },
     "output_type": "display_data"
    }
   ],
   "source": [
    "# We are plotting with seaborn a boxplot for a categorical and a nummeric column. \n",
    "# On X  we have the two options of landing_page (New- Old), on Y the time users spent on each from the dataset df.\n",
    "# We can keep from this visualization the difference in the mean value on both groups.\n",
    "plt.figure(figsize=(8,6))\n",
    "sns.boxplot(x = 'landing_page', y = 'time_spent_on_the_page', data = df)\n",
    "plt.show()"
   ]
  },
  {
   "cell_type": "markdown",
   "id": "56b3dafd",
   "metadata": {
    "id": "56b3dafd"
   },
   "source": [
    "### Step 1: Define the null and alternate hypotheses"
   ]
  },
  {
   "cell_type": "markdown",
   "id": "d2ac77ef",
   "metadata": {
    "id": "d2ac77ef"
   },
   "source": [
    "<u>Null Hypothesis.</u>\n",
    "\n",
    "$H_0:$ Users on new spent the same time as the users on old.\n",
    "\n",
    "\n",
    "<u> Alternative  Hypothesis.</u>\n",
    "\n",
    "$H_a:$Users on new spent more time than the users on old.\n",
    "\n",
    "\n",
    " - $\\mu_1$ = we defining the mean value of the users spenting time at the old site\n",
    "\n",
    " - $\\mu_2$ = we defining the mean value of the users spenting time at the new site\n",
    "\n",
    "\n",
    "\n",
    ">$H_0: \\mu_1 = \\mu_2 $\n",
    "\n",
    ">$H_a: \\mu_1 < \\mu_2 $"
   ]
  },
  {
   "cell_type": "markdown",
   "id": "c7ee4907",
   "metadata": {
    "id": "c7ee4907"
   },
   "source": [
    "### Step 2: Select Appropriate test"
   ]
  },
  {
   "cell_type": "markdown",
   "id": "2c183cd7",
   "metadata": {
    "id": "2c183cd7"
   },
   "source": [
    "•\tThis is a one-tailed test concerning two population means from two independent populations.\n",
    "\n",
    "•\tThe population standard deviations are unknown.\n",
    "\n",
    "•\tContinuous data.\n",
    "\n",
    "•\tIndependent populations\n",
    "\n",
    "•\tNot paired T-Test there are not related polpulations.\n",
    "\n",
    "\n",
    "It seems here to have a <b>two Independent Sample T-test</b>"
   ]
  },
  {
   "cell_type": "markdown",
   "id": "3f58c9a7",
   "metadata": {
    "id": "3f58c9a7"
   },
   "source": [
    "### Step 3: Decide the significance level"
   ]
  },
  {
   "cell_type": "markdown",
   "id": "92d7d7ee",
   "metadata": {
    "id": "92d7d7ee"
   },
   "source": [
    "As requested, we considering the <b>Significance Level</b> at it's default value \n",
    "\n",
    "$a$ = 0.05"
   ]
  },
  {
   "cell_type": "code",
   "execution_count": 25,
   "id": "64acdc45",
   "metadata": {},
   "outputs": [],
   "source": [
    "a = 0.05"
   ]
  },
  {
   "cell_type": "markdown",
   "id": "5fed2eac",
   "metadata": {
    "id": "5fed2eac"
   },
   "source": [
    "### Step 4: Collect and prepare data"
   ]
  },
  {
   "cell_type": "code",
   "execution_count": 26,
   "id": "f5a59495",
   "metadata": {
    "id": "f5a59495"
   },
   "outputs": [
    {
     "data": {
      "text/html": [
       "<div>\n",
       "<style scoped>\n",
       "    .dataframe tbody tr th:only-of-type {\n",
       "        vertical-align: middle;\n",
       "    }\n",
       "\n",
       "    .dataframe tbody tr th {\n",
       "        vertical-align: top;\n",
       "    }\n",
       "\n",
       "    .dataframe thead th {\n",
       "        text-align: right;\n",
       "    }\n",
       "</style>\n",
       "<table border=\"1\" class=\"dataframe\">\n",
       "  <thead>\n",
       "    <tr style=\"text-align: right;\">\n",
       "      <th></th>\n",
       "      <th>old_time</th>\n",
       "      <th>new_time</th>\n",
       "    </tr>\n",
       "  </thead>\n",
       "  <tbody>\n",
       "    <tr>\n",
       "      <th>17</th>\n",
       "      <td>4.52</td>\n",
       "      <td>7.16</td>\n",
       "    </tr>\n",
       "    <tr>\n",
       "      <th>26</th>\n",
       "      <td>0.22</td>\n",
       "      <td>6.41</td>\n",
       "    </tr>\n",
       "    <tr>\n",
       "      <th>41</th>\n",
       "      <td>1.44</td>\n",
       "      <td>3.68</td>\n",
       "    </tr>\n",
       "    <tr>\n",
       "      <th>10</th>\n",
       "      <td>3.88</td>\n",
       "      <td>7.02</td>\n",
       "    </tr>\n",
       "  </tbody>\n",
       "</table>\n",
       "</div>"
      ],
      "text/plain": [
       "    old_time  new_time\n",
       "17      4.52      7.16\n",
       "26      0.22      6.41\n",
       "41      1.44      3.68\n",
       "10      3.88      7.02"
      ]
     },
     "execution_count": 26,
     "metadata": {},
     "output_type": "execute_result"
    }
   ],
   "source": [
    "# Define a variable by extracting the criteria for my  search.\n",
    "# In this case by finding all the times that user spent on the old page.\n",
    "time_spent_old = df[df['landing_page'] == 'old']['time_spent_on_the_page']\n",
    "# In this case by finding all the times that user spent on the new page.\n",
    "time_spent_new = df[df['landing_page'] == 'new']['time_spent_on_the_page']\n",
    "\n",
    "# Reseting on both their existing indexes\n",
    "time_spent_old = time_spent_old.reset_index()\n",
    "time_spent_new = time_spent_new.reset_index()\n",
    "\n",
    "# and then drop their new\n",
    "time_spent_old = time_spent_old.drop(columns=['index'])\n",
    "time_spent_new = time_spent_new.drop(columns=['index'])\n",
    "\n",
    "# we merge in a new variable the two DataFrames\n",
    "times = pd.merge(time_spent_old, time_spent_new, right_index = True, left_index = True)\n",
    "# and we rename the columns to make it easier ! \n",
    "times = times.rename(columns={\"time_spent_on_the_page_x\": \"old_time\", \"time_spent_on_the_page_y\": \"new_time\"})\n",
    "\n",
    "# instead of .head() i use a .sample() by giving the number of samples that i need.\n",
    "times.sample(4) "
   ]
  },
  {
   "cell_type": "code",
   "execution_count": 27,
   "id": "e5323a54",
   "metadata": {},
   "outputs": [
    {
     "data": {
      "text/html": [
       "<div>\n",
       "<style scoped>\n",
       "    .dataframe tbody tr th:only-of-type {\n",
       "        vertical-align: middle;\n",
       "    }\n",
       "\n",
       "    .dataframe tbody tr th {\n",
       "        vertical-align: top;\n",
       "    }\n",
       "\n",
       "    .dataframe thead th {\n",
       "        text-align: right;\n",
       "    }\n",
       "</style>\n",
       "<table border=\"1\" class=\"dataframe\">\n",
       "  <thead>\n",
       "    <tr style=\"text-align: right;\">\n",
       "      <th></th>\n",
       "      <th>old_time</th>\n",
       "      <th>new_time</th>\n",
       "    </tr>\n",
       "  </thead>\n",
       "  <tbody>\n",
       "    <tr>\n",
       "      <th>count</th>\n",
       "      <td>50.000000</td>\n",
       "      <td>50.000000</td>\n",
       "    </tr>\n",
       "    <tr>\n",
       "      <th>mean</th>\n",
       "      <td>4.532400</td>\n",
       "      <td>6.223200</td>\n",
       "    </tr>\n",
       "    <tr>\n",
       "      <th>std</th>\n",
       "      <td>2.581975</td>\n",
       "      <td>1.817031</td>\n",
       "    </tr>\n",
       "    <tr>\n",
       "      <th>min</th>\n",
       "      <td>0.190000</td>\n",
       "      <td>1.650000</td>\n",
       "    </tr>\n",
       "    <tr>\n",
       "      <th>25%</th>\n",
       "      <td>2.720000</td>\n",
       "      <td>5.175000</td>\n",
       "    </tr>\n",
       "    <tr>\n",
       "      <th>50%</th>\n",
       "      <td>4.380000</td>\n",
       "      <td>6.105000</td>\n",
       "    </tr>\n",
       "    <tr>\n",
       "      <th>75%</th>\n",
       "      <td>6.442500</td>\n",
       "      <td>7.160000</td>\n",
       "    </tr>\n",
       "    <tr>\n",
       "      <th>max</th>\n",
       "      <td>10.300000</td>\n",
       "      <td>10.710000</td>\n",
       "    </tr>\n",
       "  </tbody>\n",
       "</table>\n",
       "</div>"
      ],
      "text/plain": [
       "        old_time   new_time\n",
       "count  50.000000  50.000000\n",
       "mean    4.532400   6.223200\n",
       "std     2.581975   1.817031\n",
       "min     0.190000   1.650000\n",
       "25%     2.720000   5.175000\n",
       "50%     4.380000   6.105000\n",
       "75%     6.442500   7.160000\n",
       "max    10.300000  10.710000"
      ]
     },
     "execution_count": 27,
     "metadata": {},
     "output_type": "execute_result"
    }
   ],
   "source": [
    "# some stats from our new table\n",
    "times.describe()"
   ]
  },
  {
   "cell_type": "code",
   "execution_count": 28,
   "id": "42ae0e2e",
   "metadata": {},
   "outputs": [
    {
     "name": "stdout",
     "output_type": "stream",
     "text": [
      "Standard deviation for the time spent on the old page is: 2.58\n",
      "Standard deviation for the time spent on the new page is: 1.82\n",
      "\n",
      "\n",
      "Mean for the time spent on the old page is: 4.53\n",
      "Mean for the time spent on the new page is: 6.22\n"
     ]
    }
   ],
   "source": [
    "# Accordingly we calculate now the standard deviation of each group \n",
    "# by rounding the after comma position to two digits on the right after 0. \n",
    "\n",
    "print('Standard deviation for the time spent on the old page is:', round(times.old_time.std(),2))\n",
    "print('Standard deviation for the time spent on the new page is:', round(times.new_time.std(),2))\n",
    "print('\\n') # just to add an empty line between the two group of results \n",
    "print('Mean for the time spent on the old page is:', round(times.old_time.mean(),2))\n",
    "print('Mean for the time spent on the new page is:', round(times.new_time.mean(),2))"
   ]
  },
  {
   "cell_type": "markdown",
   "id": "f5c5258d",
   "metadata": {
    "id": "f5c5258d"
   },
   "source": [
    "### Step 5: Calculate the p-value"
   ]
  },
  {
   "cell_type": "code",
   "execution_count": 29,
   "id": "8d219e8f",
   "metadata": {},
   "outputs": [
    {
     "name": "stdout",
     "output_type": "stream",
     "text": [
      "The p-value is : 0.0001392381225166549\n"
     ]
    }
   ],
   "source": [
    "#import the required functions for two independent sample T-test with equality of means and unequal Std deviation from scipy.stats.\n",
    "from scipy.stats import ttest_ind\n",
    "\n",
    "# Calculating the p-value, \"equal_var\" set to  \"False\" for the unequal Std. Devs. \n",
    "# Alternative='greater' as we want to find in our hypothesis that the new landing site is greater than the older. \n",
    "test_stat_2, p_value_2 = ttest_ind(times['new_time'], times['old_time'], equal_var = False, alternative = 'greater')\n",
    "\n",
    "# We include in our print a variable by converting it in string as below between '+' symbols if it is between the text.\n",
    "print('The p-value is : ' +str(p_value_2))"
   ]
  },
  {
   "cell_type": "markdown",
   "id": "359b12f8",
   "metadata": {
    "id": "359b12f8"
   },
   "source": [
    "### Step 6: Compare the p-value with $\\alpha$"
   ]
  },
  {
   "cell_type": "code",
   "execution_count": 30,
   "id": "7be47289",
   "metadata": {
    "id": "7be47289"
   },
   "outputs": [
    {
     "name": "stdout",
     "output_type": "stream",
     "text": [
      "P_Value is less than the Significant Level α. \n",
      "0.0001392381225166549 < 0.05\n",
      "\n",
      "*** We reject the null hypothesis. ***\n"
     ]
    }
   ],
   "source": [
    "# print the conclusion based on p-value\n",
    "if p_value_2 < 0.05:\n",
    "    print('P_Value is less than the Significant Level α. \\n' +str(p_value_2)+ ' < ' +str(a)+'\\n\\n*** We reject the null hypothesis. ***')\n",
    "else:\n",
    "    print('P_Value is greater than the Significant Level α.\\n' +str(p_value_2)+ ' < ' +str(a)+'\\n\\n*** We fail to reject the null hypothesis. ***')"
   ]
  },
  {
   "cell_type": "markdown",
   "id": "d9affc84",
   "metadata": {
    "id": "d9affc84"
   },
   "source": [
    "### Step 7:  Draw inference\n",
    "\n",
    "With a p-value less than the significance level, we reject the null hypothesis. We have enough statistical evidence to say that the user spenting more time at the new page rather than at the old."
   ]
  },
  {
   "cell_type": "markdown",
   "id": "353e9d24",
   "metadata": {
    "id": "353e9d24"
   },
   "source": [
    "## <a name = 'link3'>3. Is the conversion rate (the proportion of users who visit the landing page and get converted) for the new page greater than the conversion rate for the old page? (10 Marks)</a>\n",
    "\n",
    "or return to <a href = #contents>Contents of Analysis</a>"
   ]
  },
  {
   "cell_type": "code",
   "execution_count": 31,
   "id": "0f4f241f",
   "metadata": {
    "id": "6eZJa41eg21n"
   },
   "outputs": [
    {
     "data": {
      "image/png": "[encoded data removed]",
      "text/plain": [
       "<Figure size 576x432 with 1 Axes>"
      ]
     },
     "metadata": {
      "needs_background": "light"
     },
     "output_type": "display_data"
    }
   ],
   "source": [
    "# We are plotting this time on X the converted values sorting by new or old from landing_page. Y is the count of them.\n",
    "# We are mostly intrested about the right part of the visualization the 'Yes' side of the diagram.\n",
    "plt.figure(figsize=(8,6))\n",
    "sns.countplot(x = 'converted',hue= 'landing_page', data = df)\n",
    "plt.show()"
   ]
  },
  {
   "cell_type": "markdown",
   "id": "016112b7",
   "metadata": {
    "id": "56b3dafd"
   },
   "source": [
    "### Step 1: Define the null and alternate hypotheses\n"
   ]
  },
  {
   "cell_type": "markdown",
   "id": "29e1c82a",
   "metadata": {
    "id": "d2ac77ef"
   },
   "source": [
    "<u>Null Hypothesis.</u>\n",
    "\n",
    "$H_0:$  Proportion of converted users is equal on old side and on new.\n",
    "\n",
    "<u>Alternative  Hypothesis.</u>\n",
    "\n",
    "$H_a:$  Proportion of converted users is less on old side rather than on new.\n",
    "\n",
    "\n",
    "\n",
    "- $p_0$ = proportion of users on old side that converted\n",
    "\n",
    "- $p_1$ = proportion of users on new side that converted\n",
    "\n",
    "\n",
    "\n",
    ">$H_0: p_0 = p_1 $\n",
    "\n",
    ">$H_a: p_0 < p_1 $"
   ]
  },
  {
   "cell_type": "markdown",
   "id": "378c3e66",
   "metadata": {
    "id": "c7ee4907"
   },
   "source": [
    "### Step 2: Select Appropriate test"
   ]
  },
  {
   "cell_type": "markdown",
   "id": "6dc88d84",
   "metadata": {
    "id": "2c183cd7"
   },
   "source": [
    "We obtain that we have at this point a <b>Two proportion Z-test</b> because of the following reasons.\n",
    "\n",
    " - Binomally distributed population.\n",
    "\n",
    " - Random sampling from the population.\n",
    "\n",
    " - Can the binomial distribution approximated to normal distribution, np and n(1-p) are greater than or equal to 10. \n",
    "\n",
    "Here, n and p refer to the sample size and sample proportion respectively.\n",
    "\n",
    "\n",
    "* $𝑛𝑝_1$=50 * (21 / 50) = 21 ≥ 10\n",
    "\n",
    "* 𝑛(1−$𝑝_1$)=50 * ((50 − 21) / 50) = 29 ≥ 10\n",
    "\n",
    "* $𝑛𝑝_2$=50 * (33 / 50) = 33 ≥ 10\n",
    "\n",
    "* 𝑛(1−$𝑝_2$)=50 * ((50 − 33) / 50) = 17 ≥ 10"
   ]
  },
  {
   "cell_type": "markdown",
   "id": "e353e764",
   "metadata": {
    "id": "3f58c9a7"
   },
   "source": [
    "### Step 3: Decide the significance level"
   ]
  },
  {
   "cell_type": "markdown",
   "id": "d67786cb",
   "metadata": {
    "id": "92d7d7ee"
   },
   "source": [
    "As requested, we considering the <b>Significance Level</b> at it's default value \n",
    "\n",
    "$a$ = 0.05"
   ]
  },
  {
   "cell_type": "code",
   "execution_count": 32,
   "id": "f370026e",
   "metadata": {},
   "outputs": [],
   "source": [
    "a = 0.05"
   ]
  },
  {
   "cell_type": "markdown",
   "id": "719790e7",
   "metadata": {
    "id": "5fed2eac"
   },
   "source": [
    "### Step 4: Collect and prepare data"
   ]
  },
  {
   "cell_type": "code",
   "execution_count": 33,
   "id": "27f2cab5",
   "metadata": {},
   "outputs": [
    {
     "data": {
      "text/html": [
       "<div>\n",
       "<style scoped>\n",
       "    .dataframe tbody tr th:only-of-type {\n",
       "        vertical-align: middle;\n",
       "    }\n",
       "\n",
       "    .dataframe tbody tr th {\n",
       "        vertical-align: top;\n",
       "    }\n",
       "\n",
       "    .dataframe thead th {\n",
       "        text-align: right;\n",
       "    }\n",
       "</style>\n",
       "<table border=\"1\" class=\"dataframe\">\n",
       "  <thead>\n",
       "    <tr style=\"text-align: right;\">\n",
       "      <th>converted</th>\n",
       "      <th>no</th>\n",
       "      <th>yes</th>\n",
       "      <th>Total</th>\n",
       "    </tr>\n",
       "    <tr>\n",
       "      <th>group</th>\n",
       "      <th></th>\n",
       "      <th></th>\n",
       "      <th></th>\n",
       "    </tr>\n",
       "  </thead>\n",
       "  <tbody>\n",
       "    <tr>\n",
       "      <th>control</th>\n",
       "      <td>29</td>\n",
       "      <td>21</td>\n",
       "      <td>50</td>\n",
       "    </tr>\n",
       "    <tr>\n",
       "      <th>treatment</th>\n",
       "      <td>17</td>\n",
       "      <td>33</td>\n",
       "      <td>50</td>\n",
       "    </tr>\n",
       "    <tr>\n",
       "      <th>Total</th>\n",
       "      <td>46</td>\n",
       "      <td>54</td>\n",
       "      <td>100</td>\n",
       "    </tr>\n",
       "  </tbody>\n",
       "</table>\n",
       "</div>"
      ],
      "text/plain": [
       "converted  no  yes  Total\n",
       "group                    \n",
       "control    29   21     50\n",
       "treatment  17   33     50\n",
       "Total      46   54    100"
      ]
     },
     "metadata": {},
     "output_type": "display_data"
    }
   ],
   "source": [
    "# With crosstab() function from pandas we combining the count of values of the two desire columns.\n",
    "# We set an additionaly column & row 'Total' for calculate accordingly the total number of each column and each row. \n",
    "cov = pd.crosstab(df.group, df.converted, margins=True, margins_name=\"Total\")\n",
    "display(cov)"
   ]
  },
  {
   "cell_type": "code",
   "execution_count": 34,
   "id": "0956ce1a",
   "metadata": {},
   "outputs": [
    {
     "name": "stdout",
     "output_type": "stream",
     "text": [
      "Total number of users that landed on the old page: 50\n",
      "Total number of users that landed on the old page: 50\n",
      "\n",
      "\n",
      "Total number of not converted from both groups - \"No\": 46\n",
      "Total number of convertions from both groups - \"Yes\" : 54\n"
     ]
    }
   ],
   "source": [
    "# We printing the willing values by targeting and using the .iloc[x,y position of the number] starting always from 0.  \n",
    "print('Total number of users that landed on the old page: ' +str(cov.iloc[0, 2]))\n",
    "print('Total number of users that landed on the old page: ' +str(cov.iloc[1, 2]))\n",
    "print('\\n') # just to add an empty line between the two group of results \n",
    "print('Total number of not converted from both groups - \"No\": '+str(cov.iloc[2, 0]))\n",
    "print('Total number of convertions from both groups - \"Yes\" : '+str(cov.iloc[2, 1]))"
   ]
  },
  {
   "cell_type": "markdown",
   "id": "d6531391",
   "metadata": {
    "id": "f5c5258d"
   },
   "source": [
    "### Step 5: Calculate the p-value"
   ]
  },
  {
   "cell_type": "code",
   "execution_count": 57,
   "id": "95fb5742",
   "metadata": {},
   "outputs": [
    {
     "name": "stdout",
     "output_type": "stream",
     "text": [
      "The p-value is 0.008026308204056278\n"
     ]
    }
   ],
   "source": [
    "# import the required function for a two proportion Z-test \n",
    "from statsmodels.stats.proportion import proportions_ztest   \n",
    "\n",
    "# set the numbers of converted people for each group. First position for the old(control) and second for the new(treatment)\n",
    "per_yes = np.array([cov.iloc[0, 1], cov.iloc[1, 1]])\n",
    "\n",
    "# set the sample sizes for each group as we defined also upper\n",
    "totals = np.array([cov.iloc[0, 2], cov.iloc[1, 2]])\n",
    "\n",
    "# calculationg the p-value\n",
    "test_stat_3, p_value_3 = proportions_ztest(per_yes, totals, alternative = 'smaller')\n",
    "print('The p-value is ' + str(p_value_3))"
   ]
  },
  {
   "cell_type": "markdown",
   "id": "d93bc0ef",
   "metadata": {
    "id": "359b12f8"
   },
   "source": [
    "### Step 6: Compare the p-value with $\\alpha$"
   ]
  },
  {
   "cell_type": "code",
   "execution_count": 53,
   "id": "80306cee",
   "metadata": {},
   "outputs": [
    {
     "name": "stdout",
     "output_type": "stream",
     "text": [
      "P_Value is less than the Significant Level α. \n",
      "0.008026308204056278 < 0.05\n",
      "\n",
      "*** We reject the null hypothesis. ***\n"
     ]
    }
   ],
   "source": [
    "# print the conclusion based on p-value\n",
    "if p_value_3 < 0.05:\n",
    "    print('P_Value is less than the Significant Level α. \\n' +str(p_value_3)+ ' < ' +str(a)+'\\n\\n*** We reject the null hypothesis. ***')\n",
    "else:\n",
    "    print('P_Value is greater than the Significant Level α.\\n' +str(p_value_3)+ ' < ' +str(a)+'\\n\\n*** We fail to reject the null hypothesis. ***')"
   ]
  },
  {
   "cell_type": "markdown",
   "id": "ef9c818c",
   "metadata": {
    "id": "d9affc84"
   },
   "source": [
    "### Step 7:  Draw inference"
   ]
  },
  {
   "cell_type": "markdown",
   "id": "cfa1e4ae",
   "metadata": {
    "id": "b7f52898"
   },
   "source": [
    "At 5% significance level, we reject the null hypothesis. We have enough statistical evidence to say that the proportion of users who visit the landing page get more converted than those they landing at the old."
   ]
  },
  {
   "cell_type": "markdown",
   "id": "d49bfa2d",
   "metadata": {
    "id": "d49bfa2d"
   },
   "source": [
    "## <a name = 'link4'>4. Is the conversion and preferred language are independent or related? (10 Marks)</a>\n",
    "or return to <a href = #contents>Contents of Analysis</a>"
   ]
  },
  {
   "cell_type": "markdown",
   "id": "19dca51e",
   "metadata": {},
   "source": [
    "### Perform Visual Analysis"
   ]
  },
  {
   "cell_type": "code",
   "execution_count": 37,
   "id": "8c4e11a2",
   "metadata": {},
   "outputs": [
    {
     "data": {
      "image/png": "[encoded data removed]",
      "text/plain": [
       "<Figure size 648x648 with 1 Axes>"
      ]
     },
     "metadata": {
      "needs_background": "light"
     },
     "output_type": "display_data"
    }
   ],
   "source": [
    "# A Countplot visualization of number of preferred languages per convertion type\n",
    "plt.figure(figsize=(9, 9))\n",
    "sns.countplot(data = df, hue = 'converted', x = 'language_preferred')\n",
    "plt.show()"
   ]
  },
  {
   "cell_type": "markdown",
   "id": "1700e521",
   "metadata": {},
   "source": [
    "### Step 1: Define the null and alternate hypotheses"
   ]
  },
  {
   "cell_type": "markdown",
   "id": "c7bb0946",
   "metadata": {},
   "source": [
    "We will test the null hypothesis\n",
    "\n",
    ">$H_0:$ Converted status is independent of Preferred Language.\n",
    "\n",
    "against the alternate hypothesis\n",
    "\n",
    ">$H_a:$ Converted status depends on Preferred Language.\n",
    "\n"
   ]
  },
  {
   "cell_type": "markdown",
   "id": "06596077",
   "metadata": {},
   "source": [
    "### Step 2: Select Appropriate test"
   ]
  },
  {
   "cell_type": "markdown",
   "id": "c2b8ce48",
   "metadata": {},
   "source": [
    "- Categorical variables - Yes\n",
    "\n",
    "- Expected value of the number of sample observations in each level of the variable is at least 5 - Yes, the number of observations in each level is greater than 5.\n",
    "\n",
    "- Random sampling from the population - Yes."
   ]
  },
  {
   "cell_type": "markdown",
   "id": "bae035b8",
   "metadata": {},
   "source": [
    "### Step 3: Decide the significance level"
   ]
  },
  {
   "cell_type": "markdown",
   "id": "fe818b5c",
   "metadata": {
    "id": "92d7d7ee"
   },
   "source": [
    "As requested, we considering the <b>Significance Level</b> at it's default value \n",
    "\n",
    "$a$ = 0.05"
   ]
  },
  {
   "cell_type": "code",
   "execution_count": 38,
   "id": "689965cb",
   "metadata": {},
   "outputs": [],
   "source": [
    "a = 0.05"
   ]
  },
  {
   "cell_type": "markdown",
   "id": "9c7e0f07",
   "metadata": {},
   "source": [
    "### Step 4: Collect and prepare data"
   ]
  },
  {
   "cell_type": "code",
   "execution_count": 39,
   "id": "d347760d",
   "metadata": {},
   "outputs": [
    {
     "data": {
      "text/html": [
       "<div>\n",
       "<style scoped>\n",
       "    .dataframe tbody tr th:only-of-type {\n",
       "        vertical-align: middle;\n",
       "    }\n",
       "\n",
       "    .dataframe tbody tr th {\n",
       "        vertical-align: top;\n",
       "    }\n",
       "\n",
       "    .dataframe thead th {\n",
       "        text-align: right;\n",
       "    }\n",
       "</style>\n",
       "<table border=\"1\" class=\"dataframe\">\n",
       "  <thead>\n",
       "    <tr style=\"text-align: right;\">\n",
       "      <th>converted</th>\n",
       "      <th>no</th>\n",
       "      <th>yes</th>\n",
       "    </tr>\n",
       "    <tr>\n",
       "      <th>language_preferred</th>\n",
       "      <th></th>\n",
       "      <th></th>\n",
       "    </tr>\n",
       "  </thead>\n",
       "  <tbody>\n",
       "    <tr>\n",
       "      <th>English</th>\n",
       "      <td>11</td>\n",
       "      <td>21</td>\n",
       "    </tr>\n",
       "    <tr>\n",
       "      <th>French</th>\n",
       "      <td>19</td>\n",
       "      <td>15</td>\n",
       "    </tr>\n",
       "    <tr>\n",
       "      <th>Spanish</th>\n",
       "      <td>16</td>\n",
       "      <td>18</td>\n",
       "    </tr>\n",
       "  </tbody>\n",
       "</table>\n",
       "</div>"
      ],
      "text/plain": [
       "converted           no  yes\n",
       "language_preferred         \n",
       "English             11   21\n",
       "French              19   15\n",
       "Spanish             16   18"
      ]
     },
     "execution_count": 39,
     "metadata": {},
     "output_type": "execute_result"
    }
   ],
   "source": [
    "# Create the contingency table of the two categorical variables\n",
    "convi = pd.crosstab(df.language_preferred, df.converted)\n",
    "convi.reset_index()\n",
    "convi"
   ]
  },
  {
   "cell_type": "markdown",
   "id": "ce7a101f",
   "metadata": {},
   "source": [
    "### Step 5: Calculate the p-value"
   ]
  },
  {
   "cell_type": "code",
   "execution_count": 40,
   "id": "12b5a43d",
   "metadata": {},
   "outputs": [
    {
     "name": "stdout",
     "output_type": "stream",
     "text": [
      "The p-value is 0.2129888748754345\n"
     ]
    }
   ],
   "source": [
    "# import the required functions for the Chi-Square Test of Independence from scipy.stats.\n",
    "from scipy.stats import chi2_contingency  \n",
    "\n",
    "# Calculating the p-value\n",
    "chi2, p_value_4, dof, exp_freq = chi2_contingency(convi)\n",
    "\n",
    "print('The p-value is', p_value_4)"
   ]
  },
  {
   "cell_type": "markdown",
   "id": "b8ddcc8d",
   "metadata": {},
   "source": [
    "### Step 6: Compare the p-value with α"
   ]
  },
  {
   "cell_type": "code",
   "execution_count": 41,
   "id": "570b20f5",
   "metadata": {},
   "outputs": [
    {
     "name": "stdout",
     "output_type": "stream",
     "text": [
      "P_Value is greater than the Significant Level α.\n",
      "0.2129888748754345 < 0.05\n",
      "\n",
      "*** We fail to reject the null hypothesis. ***\n"
     ]
    }
   ],
   "source": [
    "if p_value_4 < 0.05:\n",
    "    print('P_Value is less than the Significant Level α. \\n' +str(p_value_4)+ ' < ' +str(a)+'\\n\\n*** We reject the null hypothesis. ***')\n",
    "else:\n",
    "    print('P_Value is greater than the Significant Level α.\\n' +str(p_value_4)+ ' < ' +str(a)+'\\n\\n*** We fail to reject the null hypothesis. ***')"
   ]
  },
  {
   "cell_type": "markdown",
   "id": "6579f636",
   "metadata": {},
   "source": [
    "### Step 7: Draw inference"
   ]
  },
  {
   "cell_type": "markdown",
   "id": "062b802c",
   "metadata": {},
   "source": [
    "At 5% significance level, we fail to reject the null hypothesis. We do not have enough statistical evidence to say that convertion depends on preferred language."
   ]
  },
  {
   "cell_type": "markdown",
   "id": "8d585a90",
   "metadata": {
    "id": "8d585a90"
   },
   "source": [
    "## <a name = 'link5'>5. Is the time spent on the new page same for the different language users? (10 Marks)</a>\n",
    "or return to <a href = #contents>Contents of Analysis</a>"
   ]
  },
  {
   "cell_type": "markdown",
   "id": "540e0ad3",
   "metadata": {},
   "source": [
    "### Perform Visual Analysis"
   ]
  },
  {
   "cell_type": "code",
   "execution_count": 42,
   "id": "7b56df8d",
   "metadata": {},
   "outputs": [
    {
     "data": {
      "text/plain": [
       "French     17\n",
       "Spanish    17\n",
       "English    16\n",
       "Name: language_preferred, dtype: int64"
      ]
     },
     "execution_count": 42,
     "metadata": {},
     "output_type": "execute_result"
    }
   ],
   "source": [
    "df_new = df[df['landing_page'] == 'new']\n",
    "df_new.language_preferred.value_counts()"
   ]
  },
  {
   "cell_type": "code",
   "execution_count": 43,
   "id": "1e4e5835",
   "metadata": {},
   "outputs": [
    {
     "name": "stdout",
     "output_type": "stream",
     "text": [
      "language_preferred\n",
      "English    6.663750\n",
      "French     6.196471\n",
      "Spanish    5.835294\n",
      "Name: time_spent_on_the_page, dtype: float64\n"
     ]
    }
   ],
   "source": [
    "print(df_new.groupby(\"language_preferred\")[\"time_spent_on_the_page\"].mean())"
   ]
  },
  {
   "cell_type": "code",
   "execution_count": 44,
   "id": "ff03e857",
   "metadata": {
    "scrolled": true
   },
   "outputs": [
    {
     "data": {
      "image/png": "[encoded data removed]",
      "text/plain": [
       "<Figure size 432x432 with 1 Axes>"
      ]
     },
     "metadata": {
      "needs_background": "light"
     },
     "output_type": "display_data"
    }
   ],
   "source": [
    "fig, ax = plt.subplots(figsize = (6,6))\n",
    "a = sns.boxplot(x= \"language_preferred\", y = 'time_spent_on_the_page' , data = df_new, hue = 'language_preferred')\n",
    "a.set_title(\"Time spent on the new page same for the different language users(3 levels)\", fontsize=15)\n",
    "plt.grid()\n",
    "plt.show()"
   ]
  },
  {
   "cell_type": "markdown",
   "id": "7d49004c",
   "metadata": {},
   "source": [
    "As we can observe the distribution differs among the three groups.\n",
    "\n",
    "Although 'English' having the highest value of all three."
   ]
  },
  {
   "cell_type": "markdown",
   "id": "a78381e3",
   "metadata": {},
   "source": [
    "### Step 1: Define the null and alternate hypotheses"
   ]
  },
  {
   "cell_type": "markdown",
   "id": "259d4ee3",
   "metadata": {},
   "source": [
    "Let $\\mu_1, \\mu_2, \\mu_3$ be the means of time spent on new webside for different languages English, French, Spanish respectively.\n",
    "\n",
    "We will test the null hypothesis\n",
    "\n",
    ">$H_0: \\mu_1 = \\mu_2 = \\mu_3$\n",
    "\n",
    "against the alternative hypothesis\n",
    "\n",
    ">$H_a: $ At least one value is different from the rest.\n"
   ]
  },
  {
   "cell_type": "markdown",
   "id": "468a0d51",
   "metadata": {},
   "source": [
    "### Step 2: Select Appropriate test"
   ]
  },
  {
   "cell_type": "markdown",
   "id": "ef2f4da2",
   "metadata": {},
   "source": [
    "This is a problem, concerning three population means. <b>One-way ANOVA</b> could be the appropriate test here provided normality and equality of variance assumptions are verified.\n",
    "\n",
    "* For testing of normality, Shapiro-Wilk’s test is applied to the response variable.\n",
    "\n",
    "* For equality of variance, Levene test is applied to the response variable.\n"
   ]
  },
  {
   "cell_type": "markdown",
   "id": "58fff8b8",
   "metadata": {},
   "source": [
    "### Shapiro-Wilk’s test\n",
    "\n",
    "We will test the null hypothesis\n",
    "\n",
    ">$H_0:$ The time follow a normal distribution\n",
    "\n",
    "against the alternative hypothesis\n",
    "\n",
    ">$H_a:$ The time does not not follow a normal distribution"
   ]
  },
  {
   "cell_type": "code",
   "execution_count": 45,
   "id": "2767ddf6",
   "metadata": {},
   "outputs": [
    {
     "name": "stdout",
     "output_type": "stream",
     "text": [
      "The p-value is 0.8040016293525696\n"
     ]
    }
   ],
   "source": [
    "# Assumption 1: Normality\n",
    "# import the required function\n",
    "from scipy.stats import shapiro\n",
    "\n",
    "# find the p-value\n",
    "w, p_value = shapiro(df_new['time_spent_on_the_page']) \n",
    "print('The p-value is', p_value)"
   ]
  },
  {
   "cell_type": "markdown",
   "id": "85021f6c",
   "metadata": {},
   "source": [
    "Since p-value is greater than the 5% significance level, we fail to reject the null hypothesis that the response follows the normal distribution."
   ]
  },
  {
   "cell_type": "markdown",
   "id": "abc937a9",
   "metadata": {},
   "source": [
    "### Levene’s test\n",
    "\n",
    "We will test the null hypothesis\n",
    "\n",
    ">$H_0$: All the population variances are equal\n",
    "\n",
    "against the alternative hypothesis\n",
    "\n",
    ">$H_a$: At least one variance is different from the rest\n"
   ]
  },
  {
   "cell_type": "code",
   "execution_count": 46,
   "id": "5dd26547",
   "metadata": {},
   "outputs": [
    {
     "name": "stdout",
     "output_type": "stream",
     "text": [
      "The p-value is 0.46711357711340173\n"
     ]
    }
   ],
   "source": [
    "#Assumption 2: Homogeneity of Variance\n",
    "#import the required function\n",
    "from scipy.stats import levene\n",
    "statistic, p_value = levene( df_new[df_new['language_preferred']==\"English\"]['time_spent_on_the_page'], \n",
    "                             df_new[df_new['language_preferred']==\"French\"]['time_spent_on_the_page'], \n",
    "                             df_new[df_new['language_preferred']==\"Spanish\"]['time_spent_on_the_page'])\n",
    "# find the p-value\n",
    "print('The p-value is', p_value)"
   ]
  },
  {
   "cell_type": "markdown",
   "id": "ceb09f56",
   "metadata": {},
   "source": [
    "Since the p-value is large than the 5% significance level, we fail to reject the null hypothesis of homogeneity of variances."
   ]
  },
  {
   "cell_type": "markdown",
   "id": "bcc1a413",
   "metadata": {},
   "source": [
    "### Step 3: Decide the significance level"
   ]
  },
  {
   "cell_type": "markdown",
   "id": "e431729e",
   "metadata": {
    "id": "92d7d7ee"
   },
   "source": [
    "As requested, we considering the <b>Significance Level</b> at it's default value \n",
    "\n",
    "$a$ = 0.05"
   ]
  },
  {
   "cell_type": "code",
   "execution_count": 47,
   "id": "7b97bab9",
   "metadata": {},
   "outputs": [],
   "source": [
    "a = 0.05"
   ]
  },
  {
   "cell_type": "markdown",
   "id": "d5bca809",
   "metadata": {},
   "source": [
    "### Step 4: Collect and prepare data"
   ]
  },
  {
   "cell_type": "code",
   "execution_count": 48,
   "id": "367d9e54",
   "metadata": {},
   "outputs": [],
   "source": [
    "# create a subsetted data frame of the time spent on the new page by English language users \n",
    "time_English = df_new[df_new['language_preferred']==\"English\"]['time_spent_on_the_page']\n",
    "# create subsetted data frames of the time spent on the new page by French and Spanish language users\n",
    "time_French = df_new[df_new['language_preferred']==\"French\"]['time_spent_on_the_page']\n",
    "time_Spanish = df_new[df_new['language_preferred']==\"Spanish\"]['time_spent_on_the_page']"
   ]
  },
  {
   "cell_type": "markdown",
   "id": "a0669cd3",
   "metadata": {},
   "source": [
    "### Step 5: Calculate the p-value"
   ]
  },
  {
   "cell_type": "code",
   "execution_count": 49,
   "id": "41c7ae86",
   "metadata": {},
   "outputs": [
    {
     "name": "stdout",
     "output_type": "stream",
     "text": [
      "The p-value is 0.43204138694325955\n"
     ]
    }
   ],
   "source": [
    "# complete the code to import the required function\n",
    "from scipy.stats import f_oneway \n",
    "\n",
    "# write the code to calculate the p-value\n",
    "test_stat, p_value_5 = f_oneway(time_English,\n",
    "                              time_French,\n",
    "                              time_Spanish)\n",
    "\n",
    "\n",
    "print('The p-value is', p_value_5)"
   ]
  },
  {
   "cell_type": "markdown",
   "id": "e1f139a5",
   "metadata": {},
   "source": [
    "### Step 6: Compare the p-value with α"
   ]
  },
  {
   "cell_type": "code",
   "execution_count": 50,
   "id": "21287078",
   "metadata": {},
   "outputs": [
    {
     "name": "stdout",
     "output_type": "stream",
     "text": [
      "P_Value is greater than the Significant Level α.\n",
      "0.43204138694325955 < 0.05\n",
      "\n",
      "*** We fail to reject the null hypothesis. ***\n"
     ]
    }
   ],
   "source": [
    "if p_value_5 < 0.05:\n",
    "    print('P_Value is less than the Significant Level α. \\n' +str(p_value_5)+ ' < ' +str(a)+'\\n\\n*** We reject the null hypothesis. ***')\n",
    "else:\n",
    "    print('P_Value is greater than the Significant Level α.\\n' +str(p_value_5)+ ' < ' +str(a)+'\\n\\n*** We fail to reject the null hypothesis. ***')"
   ]
  },
  {
   "cell_type": "code",
   "execution_count": 51,
   "id": "55bf012c",
   "metadata": {
    "scrolled": true
   },
   "outputs": [
    {
     "name": "stdout",
     "output_type": "stream",
     "text": [
      " Multiple Comparison of Means - Tukey HSD, FWER=0.05 \n",
      "=====================================================\n",
      " group1  group2 meandiff p-adj   lower  upper  reject\n",
      "-----------------------------------------------------\n",
      "English  French  -0.4673 0.7259 -2.0035  1.069  False\n",
      "English Spanish  -0.8285  0.401 -2.3647 0.7078  False\n",
      " French Spanish  -0.3612  0.816  -1.874 1.1516  False\n",
      "-----------------------------------------------------\n"
     ]
    }
   ],
   "source": [
    "# importing pairwise_tukeyhsd to compare as pairs the values\n",
    "from statsmodels.stats.multicomp import pairwise_tukeyhsd\n",
    "m_comp = pairwise_tukeyhsd(endog = df_new['time_spent_on_the_page'], groups = df_new['language_preferred'], alpha = 0.05)\n",
    "print(m_comp)"
   ]
  },
  {
   "cell_type": "markdown",
   "id": "dd796b23",
   "metadata": {},
   "source": [
    "### Step 7: Draw inference"
   ]
  },
  {
   "cell_type": "markdown",
   "id": "778a6feb",
   "metadata": {},
   "source": [
    "Since p-value of the more than the 5% significance level, we fail to reject the null hypothesis that at least one variant is different."
   ]
  },
  {
   "cell_type": "markdown",
   "id": "3acbc947",
   "metadata": {
    "id": "3acbc947"
   },
   "source": [
    "# Conclusion and Business Recommendations"
   ]
  },
  {
   "cell_type": "markdown",
   "id": "21fb1063",
   "metadata": {
    "id": "21fb1063"
   },
   "source": [
    "At this research:\n",
    "\n",
    "- We collected a sample of 100 pure entries without missing data from every entry.\n",
    "- We had a symmetry of users that they landed to the old page and those that landed at the new one (50%-50%).\n",
    "- Although we found out that the percentage of convertion at the new page is greater than at the old one.\n",
    "- We searched also that the convertion is independent of the language that the user preferred.\n",
    "- The average time that users from different languages spent on the new website is similar.\n",
    "\n",
    "\n",
    "As result of our analysis we calculated that the <b>proportion of users</b> that they subscribing using the new website is much greater rather this one from the old one. After our results, we can <b>higly recommend</b> the new website as source  of gathering subscribers more effectively.\n",
    "\n"
   ]
  }
 ],
 "metadata": {
  "colab": {
   "collapsed_sections": [],
   "name": "ENews_Express_Learner_Notebook[Full Code Version].ipynb",
   "provenance": []
  },
  "kernelspec": {
   "display_name": "Python 3 (ipykernel)",
   "language": "python",
   "name": "python3"
  },
  "language_info": {
   "codemirror_mode": {
    "name": "ipython",
    "version": 3
   },
   "file_extension": ".py",
   "mimetype": "text/x-python",
   "name": "python",
   "nbconvert_exporter": "python",
   "pygments_lexer": "ipython3",
   "version": "3.9.7"
  }
 },
 "nbformat": 4,
 "nbformat_minor": 5
}
